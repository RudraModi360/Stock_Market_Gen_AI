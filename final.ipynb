{
 "cells": [
  {
   "cell_type": "code",
   "execution_count": 1,
   "metadata": {},
   "outputs": [],
   "source": [
    "from langchain_community.document_loaders import PyPDFLoader,WebBaseLoader\n",
    "from langchain.text_splitter import RecursiveCharacterTextSplitter\n",
    "from langchain_community.embeddings import OllamaEmbeddings\n",
    "from langchain_community.vectorstores import FAISS\n",
    "from langchain_community.vectorstores.chroma import Chroma\n",
    "from langchain.prompts import ChatPromptTemplate\n",
    "from langchain.chains.combine_documents import create_stuff_documents_chain\n",
    "from langchain_groq import ChatGroq\n",
    "from langchain.chains import create_retrieval_chain\n",
    "from datetime import datetime,date\n",
    "from langchain_core.prompts import ChatPromptTemplate\n",
    "import json\n",
    "groq_api_key = \"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\"\n"
   ]
  },
  {
   "cell_type": "code",
   "execution_count": 2,
   "metadata": {},
   "outputs": [
    {
     "data": {
      "text/plain": [
       "'\\nExtract from give the information of the axis bank  and return in JSON format only the key features of the provided input. This should include the name of the company, the starting date, and the last date in DD-MM-YYYY format. Also, include the timeframe, which can be one of the following: day, 1 month, 3 months, 6 months, or year. Additionally, provide the number of companies and any other details that would be useful for making a data request to a URL.\\n'"
      ]
     },
     "execution_count": 2,
     "metadata": {},
     "output_type": "execute_result"
    }
   ],
   "source": [
    "user_input=\"give the information of the axis bank \"\n",
    "user_prompt= f\"\"\"\n",
    "Extract from {user_input} and return in JSON format only the key features of the provided input. This should include the name of the company, the starting date, and the last date in DD-MM-YYYY format. Also, include the timeframe, which can be one of the following: day, 1 month, 3 months, 6 months, or year. Additionally, provide the number of companies and any other details that would be useful for making a data request to a URL.\n",
    "\"\"\"\n",
    "user_prompt"
   ]
  },
  {
   "cell_type": "code",
   "execution_count": 3,
   "metadata": {},
   "outputs": [
    {
     "data": {
      "text/plain": [
       "[SystemMessage(content='You are a helpful AI bot giving the information realted to indian stock market referencing 2024-07-29. Your name is MarketMinds.'),\n",
       " HumanMessage(content='Hello, how are you doing?'),\n",
       " AIMessage(content='Always return JSON. Do not include any other text or formatting characters.'),\n",
       " HumanMessage(content='\\nExtract from give the information of the axis bank  and return in JSON format only the key features of the provided input. This should include the name of the company, the starting date, and the last date in DD-MM-YYYY format. Also, include the timeframe, which can be one of the following: day, 1 month, 3 months, 6 months, or year. Additionally, provide the number of companies and any other details that would be useful for making a data request to a URL.\\n')]"
      ]
     },
     "execution_count": 3,
     "metadata": {},
     "output_type": "execute_result"
    }
   ],
   "source": [
    "chat_template = ChatPromptTemplate.from_messages(\n",
    "    [\n",
    "        (\"system\", \"You are a helpful AI bot giving the information realted to indian stock market referencing {date}. Your name is {name}.\"),\n",
    "        (\"human\", \"Hello, how are you doing?\"),\n",
    "        (\"ai\", \"Always return JSON. Do not include any other text or formatting characters.\"),\n",
    "        (\"human\", \"{user_input}\"),\n",
    "    ]\n",
    ")\n",
    "\n",
    "messages = chat_template.format_messages(name=\"MarketMinds\", user_input=user_prompt,date=date.today())\n",
    "messages"
   ]
  },
  {
   "cell_type": "code",
   "execution_count": 4,
   "metadata": {},
   "outputs": [
    {
     "data": {
      "text/plain": [
       "'Here is the extracted information about Axis Bank in JSON format:\\n\\n```\\n{\\n  \"company_name\": \"Axis Bank\",\\n  \"start_date\": \"03-04-1994\",\\n  \"last_date\": \"current\",\\n  \"timeframe\": \"year\",\\n  \"number_of_companies\": 1,\\n  \"details\": {\\n    \"industry\": \"Banking and Financial Services\",\\n    \"headquarters\": \"Mumbai, India\"\\n  }\\n}\\n```\\n\\nNote: Since Axis Bank is still an active company, I\\'ve marked the \"last_date\" as \"current\". Also, I\\'ve assumed the timeframe as \"year\" as it\\'s a common timeframe used for analyzing company data. If you need a specific timeframe, please let me know!'"
      ]
     },
     "execution_count": 4,
     "metadata": {},
     "output_type": "execute_result"
    }
   ],
   "source": [
    "llm = ChatGroq(\n",
    "    groq_api_key=groq_api_key, model_name=\"llama3-70b-8192\"\n",
    ")\n",
    "json_res=llm.invoke(user_prompt).content\n",
    "json_res"
   ]
  },
  {
   "cell_type": "code",
   "execution_count": 5,
   "metadata": {},
   "outputs": [
    {
     "data": {
      "text/plain": [
       "[Document(metadata={'source': 'https://api.upstox.com/v2/historical-candle/NSE_EQ%7CINE040A01034/day/2024-07-23/2024-07-01'}, page_content='{\"status\":\"success\",\"data\":{\"candles\":[[\"2024-07-23T00:00:00+05:30\",1647.55,1647.8,1605,1618.4,26001076,0],[\"2024-07-22T00:00:00+05:30\",1617,1651,1612.65,1642.55,26872411,0],[\"2024-07-19T00:00:00+05:30\",1616,1623,1603.5,1607.3,13001076,0],[\"2024-07-18T00:00:00+05:30\",1608,1623.95,1599.15,1614.8,16858532,0],[\"2024-07-16T00:00:00+05:30\",1620.75,1627,1616.8,1619.75,14475162,0],[\"2024-07-15T00:00:00+05:30\",1623.5,1629.8,1615.2,1622.1,16687847,0],[\"2024-07-12T00:00:00+05:30\",1622,1638.4,1611.15,1622.7,28024980,0],[\"2024-07-11T00:00:00+05:30\",1623.95,1625.85,1601,1621.9,22088537,0],[\"2024-07-10T00:00:00+05:30\",1629.95,1640,1620.75,1626.1,22753591,0],[\"2024-07-09T00:00:00+05:30\",1625,1646.7,1620.35,1636.5,24275439,0],[\"2024-07-08T00:00:00+05:30\",1645.3,1654.95,1627.15,1635.35,19543900,0],[\"2024-07-05T00:00:00+05:30\",1685,1685,1642.2,1648.1,41121274,0],[\"2024-07-04T00:00:00+05:30\",1759.75,1759.75,1724.85,1727.15,22924329,0],[\"2024-07-03T00:00:00+05:30\",1791,1794,1764.65,1768.65,61608901,0],[\"2024-07-02T00:00:00+05:30\",1715,1734.9,1702.75,1730.6,22960845,0],[\"2024-07-01T00:00:00+05:30\",1680,1707.3,1680,1705.2,10593512,0]]}}')]"
      ]
     },
     "execution_count": 5,
     "metadata": {},
     "output_type": "execute_result"
    }
   ],
   "source": [
    "loader = WebBaseLoader(\n",
    "    [\n",
    "        \"https://api.upstox.com/v2/historical-candle/NSE_EQ%7CINE040A01034/day/2024-07-23/2024-07-01\"\n",
    "        # \"https://newsapi.org/v2/everything?q=(NSE%20AND%20BSE)&apiKey=d1858fd8650743deb697aea90617d602\",\n",
    "        # \"https://newsapi.org/v2/everything?domains=moneycontrol.com,cnbc.com,bloomberg.com,thehindubusinessline.com/topic/nse,nseindia.com/resources/exchange-communication-media-center&apiKey=d1858fd8650743deb697aea90617d602\",\n",
    "    ]\n",
    ")\n",
    "web_data = loader.load()\n",
    "web_data"
   ]
  },
  {
   "cell_type": "code",
   "execution_count": 6,
   "metadata": {},
   "outputs": [
    {
     "data": {
      "text/plain": [
       "[Document(metadata={'source': 'https://api.upstox.com/v2/historical-candle/NSE_EQ%7CINE040A01034/day/2024-07-23/2024-07-01'}, page_content='{\"status\":\"success\",\"data\":{\"candles\":[[\"2024-07-23T00:00:00+05:30\",1647.55,1647.8,1605,1618.4,26001076,0],[\"2024-07-22T00:00:00+05:30\",1617,1651,1612.65,1642.55,26872411,0],[\"2024-07-19T00:00:00+05:30\",1616,1623,1603.5,1607.3,13001076,0],[\"2024-07-18T00:00:00+05:30\",1608,1623.95,1599.15,1614.8,16858532,0],[\"2024-07-16T00:00:00+05:30\",1620.75,1627,1616.8,1619.75,14475162,0],[\"2024-07-15T00:00:00+05:30\",1623.5,1629.8,1615.2,1622.1,16687847,0],[\"2024-07-12T00:00:00+05:30\",1622,1638.4,1611.15,1622.'),\n",
       " Document(metadata={'source': 'https://api.upstox.com/v2/historical-candle/NSE_EQ%7CINE040A01034/day/2024-07-23/2024-07-01'}, page_content='24-07-12T00:00:00+05:30\",1622,1638.4,1611.15,1622.7,28024980,0],[\"2024-07-11T00:00:00+05:30\",1623.95,1625.85,1601,1621.9,22088537,0],[\"2024-07-10T00:00:00+05:30\",1629.95,1640,1620.75,1626.1,22753591,0],[\"2024-07-09T00:00:00+05:30\",1625,1646.7,1620.35,1636.5,24275439,0],[\"2024-07-08T00:00:00+05:30\",1645.3,1654.95,1627.15,1635.35,19543900,0],[\"2024-07-05T00:00:00+05:30\",1685,1685,1642.2,1648.1,41121274,0],[\"2024-07-04T00:00:00+05:30\",1759.75,1759.75,1724.85,1727.15,22924329,0],[\"2024-07-03T00:00:0'),\n",
       " Document(metadata={'source': 'https://api.upstox.com/v2/historical-candle/NSE_EQ%7CINE040A01034/day/2024-07-23/2024-07-01'}, page_content='5,1724.85,1727.15,22924329,0],[\"2024-07-03T00:00:00+05:30\",1791,1794,1764.65,1768.65,61608901,0],[\"2024-07-02T00:00:00+05:30\",1715,1734.9,1702.75,1730.6,22960845,0],[\"2024-07-01T00:00:00+05:30\",1680,1707.3,1680,1705.2,10593512,0]]}}')]"
      ]
     },
     "execution_count": 6,
     "metadata": {},
     "output_type": "execute_result"
    }
   ],
   "source": [
    "text_splitter=RecursiveCharacterTextSplitter(chunk_size=500,chunk_overlap=50)\n",
    "web_splitted=text_splitter.split_documents(web_data)\n",
    "web_splitted"
   ]
  },
  {
   "cell_type": "code",
   "execution_count": 14,
   "metadata": {},
   "outputs": [
    {
     "data": {
      "text/plain": [
       "<langchain_community.vectorstores.faiss.FAISS at 0x22f0bec6750>"
      ]
     },
     "execution_count": 14,
     "metadata": {},
     "output_type": "execute_result"
    }
   ],
   "source": [
    "from langchain_cohere import CohereEmbeddings\n",
    "embeddings_obj = CohereEmbeddings(\n",
    "    model=\"embed-english-v3.0\",\n",
    "    cohere_api_key=\"yPk6URXBI73JAvNZIEpw5tXmxchseO5mFZIhTxsN\",\n",
    ")\n",
    "db=FAISS.from_documents(web_splitted,embeddings_obj)\n",
    "db"
   ]
  },
  {
   "cell_type": "code",
   "execution_count": null,
   "metadata": {},
   "outputs": [],
   "source": [
    "prompt = ChatPromptTemplate.from_template(\n",
    "\"\"\"\n",
    "Given the context below and today's date {date} (which is a {day}), answer the following questions as accurately as possible.\n",
    "with some fluctuation in percentage values of params with respect to today\n",
    "Context:\n",
    "<context>\n",
    "{context}\n",
    "</context>\n",
    "Questions : {input}\n",
    "\"\"\" \n",
    ")\n",
    "document_chain = create_stuff_documents_chain(llm, prompt)"
   ]
  },
  {
   "cell_type": "code",
   "execution_count": null,
   "metadata": {},
   "outputs": [],
   "source": [
    "retriever = db.as_retriever()\n",
    "retrieval_chain = create_retrieval_chain(retriever, document_chain)"
   ]
  },
  {
   "cell_type": "code",
   "execution_count": null,
   "metadata": {},
   "outputs": [],
   "source": [
    "prompt=\"how much deviation in % can be there for each candle values can be occur respect to today for next 5 days give it respective dates\""
   ]
  },
  {
   "cell_type": "code",
   "execution_count": null,
   "metadata": {},
   "outputs": [],
   "source": [
    "response=retrieval_chain.invoke(input={'input':prompt,\n",
    "                        'context':web_splitted,\n",
    "                        'date':date.today(),\n",
    "                        'day':datetime.today().strftime(\"%A\")\n",
    "                        })\n",
    "print(response['answer'])"
   ]
  }
 ],
 "metadata": {
  "kernelspec": {
   "display_name": "Python 3",
   "language": "python",
   "name": "python3"
  },
  "language_info": {
   "codemirror_mode": {
    "name": "ipython",
    "version": 3
   },
   "file_extension": ".py",
   "mimetype": "text/x-python",
   "name": "python",
   "nbconvert_exporter": "python",
   "pygments_lexer": "ipython3",
   "version": "3.11.4"
  }
 },
 "nbformat": 4,
 "nbformat_minor": 2
}
