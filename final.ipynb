{
 "cells": [
  {
   "cell_type": "code",
   "execution_count": 21,
   "metadata": {},
   "outputs": [],
   "source": [
    "from langchain_community.document_loaders import PyPDFLoader,WebBaseLoader\n",
    "from langchain.text_splitter import RecursiveCharacterTextSplitter\n",
    "from langchain_community.embeddings import OllamaEmbeddings\n",
    "from langchain_community.vectorstores import FAISS\n",
    "from langchain_community.vectorstores.chroma import Chroma\n",
    "from langchain.prompts import ChatPromptTemplate\n",
    "from langchain.chains.combine_documents import create_stuff_documents_chain\n",
    "from langchain_groq import ChatGroq\n",
    "from langchain.chains import create_retrieval_chain\n",
    "from datetime import datetime,date\n",
    "from langchain_core.prompts import ChatPromptTemplate\n",
    "import json\n",
    "groq_api_key = \"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\""
   ]
  },
  {
   "cell_type": "code",
   "execution_count": 22,
   "metadata": {},
   "outputs": [
    {
     "data": {
      "text/plain": [
       "'\\nExtract from give the information of the axis bank for last 10 days stocks and return in JSON format only the key features of the provided input. This should include the name of the company, the starting date, and the last date in DD-MM-YYYY format. Also, include the timeframe, which can be one of the following: day, 1 month, 3 months, 6 months, or year. Additionally, provide the number of companies and any other details that would be useful for making a data request to a URL.\\n'"
      ]
     },
     "execution_count": 22,
     "metadata": {},
     "output_type": "execute_result"
    }
   ],
   "source": [
    "user_input=\"give the information of the axis bank for last 10 days stocks\"\n",
    "user_prompt= f\"\"\"\n",
    "Extract from {user_input} and return in JSON format only the key features of the provided input. This should include the name of the company, the starting date, and the last date in DD-MM-YYYY format. Also, include the timeframe, which can be one of the following: day, 1 month, 3 months, 6 months, or year. Additionally, provide the number of companies and any other details that would be useful for making a data request to a URL.\n",
    "\"\"\"\n",
    "user_prompt"
   ]
  },
  {
   "cell_type": "code",
   "execution_count": 23,
   "metadata": {},
   "outputs": [
    {
     "data": {
      "text/plain": [
       "[SystemMessage(content='You are a helpful AI bot giving the information realted to indian stock market referencing 2024-07-25. Your name is MarketMinds.'),\n",
       " HumanMessage(content='Hello, how are you doing?'),\n",
       " AIMessage(content='Always return JSON. Do not include any other text or formatting characters.'),\n",
       " HumanMessage(content='\\nExtract from give the information of the axis bank for last 10 days stocks and return in JSON format only the key features of the provided input. This should include the name of the company, the starting date, and the last date in DD-MM-YYYY format. Also, include the timeframe, which can be one of the following: day, 1 month, 3 months, 6 months, or year. Additionally, provide the number of companies and any other details that would be useful for making a data request to a URL.\\n')]"
      ]
     },
     "execution_count": 23,
     "metadata": {},
     "output_type": "execute_result"
    }
   ],
   "source": [
    "chat_template = ChatPromptTemplate.from_messages(\n",
    "    [\n",
    "        (\"system\", \"You are a helpful AI bot giving the information realted to indian stock market referencing {date}. Your name is {name}.\"),\n",
    "        (\"human\", \"Hello, how are you doing?\"),\n",
    "        (\"ai\", \"Always return JSON. Do not include any other text or formatting characters.\"),\n",
    "        (\"human\", \"{user_input}\"),\n",
    "    ]\n",
    ")\n",
    "\n",
    "messages = chat_template.format_messages(name=\"MarketMinds\", user_input=user_prompt,date=date.today())\n",
    "messages"
   ]
  },
  {
   "cell_type": "code",
   "execution_count": 24,
   "metadata": {},
   "outputs": [
    {
     "data": {
      "text/plain": [
       "{'company': 'Axis Bank',\n",
       " 'startDate': '2023-09-01',\n",
       " 'endDate': '2023-09-10',\n",
       " 'timeFrame': '10 days',\n",
       " 'numberOfCompanies': 1,\n",
       " 'url': 'https://api.stockmarket.com/axisbank/stocks?startDate=2023-09-01&endDate=2023-09-10&timeFrame=10%20days&numberOfCompanies=1'}"
      ]
     },
     "execution_count": 24,
     "metadata": {},
     "output_type": "execute_result"
    }
   ],
   "source": [
    "llm = ChatGroq(\n",
    "    groq_api_key=groq_api_key, model_name=\"llama3-groq-70b-8192-tool-use-preview\"\n",
    ")\n",
    "json_res=json.loads(llm.invoke(user_prompt).content)\n",
    "json_res"
   ]
  },
  {
   "cell_type": "code",
   "execution_count": 25,
   "metadata": {},
   "outputs": [
    {
     "data": {
      "text/plain": [
       "[Document(metadata={'source': 'https://api.upstox.com/v2/historical-candle/NSE_EQ%7CINE040A01034/day/2024-07-23/2024-07-01'}, page_content='{\"status\":\"success\",\"data\":{\"candles\":[[\"2024-07-23T00:00:00+05:30\",1647.55,1647.8,1605,1618.4,26001076,0],[\"2024-07-22T00:00:00+05:30\",1617,1651,1612.65,1642.55,26872411,0],[\"2024-07-19T00:00:00+05:30\",1616,1623,1603.5,1607.3,13001076,0],[\"2024-07-18T00:00:00+05:30\",1608,1623.95,1599.15,1614.8,16858532,0],[\"2024-07-16T00:00:00+05:30\",1620.75,1627,1616.8,1619.75,14475162,0],[\"2024-07-15T00:00:00+05:30\",1623.5,1629.8,1615.2,1622.1,16687847,0],[\"2024-07-12T00:00:00+05:30\",1622,1638.4,1611.15,1622.7,28024980,0],[\"2024-07-11T00:00:00+05:30\",1623.95,1625.85,1601,1621.9,22088537,0],[\"2024-07-10T00:00:00+05:30\",1629.95,1640,1620.75,1626.1,22753591,0],[\"2024-07-09T00:00:00+05:30\",1625,1646.7,1620.35,1636.5,24275439,0],[\"2024-07-08T00:00:00+05:30\",1645.3,1654.95,1627.15,1635.35,19543900,0],[\"2024-07-05T00:00:00+05:30\",1685,1685,1642.2,1648.1,41121274,0],[\"2024-07-04T00:00:00+05:30\",1759.75,1759.75,1724.85,1727.15,22924329,0],[\"2024-07-03T00:00:00+05:30\",1791,1794,1764.65,1768.65,61608901,0],[\"2024-07-02T00:00:00+05:30\",1715,1734.9,1702.75,1730.6,22960845,0],[\"2024-07-01T00:00:00+05:30\",1680,1707.3,1680,1705.2,10593512,0]]}}')]"
      ]
     },
     "execution_count": 25,
     "metadata": {},
     "output_type": "execute_result"
    }
   ],
   "source": [
    "loader = WebBaseLoader(\n",
    "    [\n",
    "        \"https://api.upstox.com/v2/historical-candle/NSE_EQ%7CINE040A01034/day/2024-07-23/2024-07-01\"\n",
    "        # \"https://newsapi.org/v2/everything?q=(NSE%20AND%20BSE)&apiKey=d1858fd8650743deb697aea90617d602\",\n",
    "        # \"https://newsapi.org/v2/everything?domains=moneycontrol.com,cnbc.com,bloomberg.com,thehindubusinessline.com/topic/nse,nseindia.com/resources/exchange-communication-media-center&apiKey=d1858fd8650743deb697aea90617d602\",\n",
    "    ]\n",
    ")\n",
    "web_data = loader.load()\n",
    "web_data"
   ]
  },
  {
   "cell_type": "code",
   "execution_count": 26,
   "metadata": {},
   "outputs": [
    {
     "data": {
      "text/plain": [
       "[Document(metadata={'source': 'https://api.upstox.com/v2/historical-candle/NSE_EQ%7CINE040A01034/day/2024-07-23/2024-07-01'}, page_content='{\"status\":\"success\",\"data\":{\"candles\":[[\"2024-07-23T00:00:00+05:30\",1647.55,1647.8,1605,1618.4,26001076,0],[\"2024-07-22T00:00:00+05:30\",1617,1651,1612.65,1642.55,26872411,0],[\"2024-07-19T00:00:00+05:30\",1616,1623,1603.5,1607.3,13001076,0],[\"2024-07-18T00:00:00+05:30\",1608,1623.95,1599.15,1614.8,16858532,0],[\"2024-07-16T00:00:00+05:30\",1620.75,1627,1616.8,1619.75,14475162,0],[\"2024-07-15T00:00:00+05:30\",1623.5,1629.8,1615.2,1622.1,16687847,0],[\"2024-07-12T00:00:00+05:30\",1622,1638.4,1611.15,1622.'),\n",
       " Document(metadata={'source': 'https://api.upstox.com/v2/historical-candle/NSE_EQ%7CINE040A01034/day/2024-07-23/2024-07-01'}, page_content='24-07-12T00:00:00+05:30\",1622,1638.4,1611.15,1622.7,28024980,0],[\"2024-07-11T00:00:00+05:30\",1623.95,1625.85,1601,1621.9,22088537,0],[\"2024-07-10T00:00:00+05:30\",1629.95,1640,1620.75,1626.1,22753591,0],[\"2024-07-09T00:00:00+05:30\",1625,1646.7,1620.35,1636.5,24275439,0],[\"2024-07-08T00:00:00+05:30\",1645.3,1654.95,1627.15,1635.35,19543900,0],[\"2024-07-05T00:00:00+05:30\",1685,1685,1642.2,1648.1,41121274,0],[\"2024-07-04T00:00:00+05:30\",1759.75,1759.75,1724.85,1727.15,22924329,0],[\"2024-07-03T00:00:0'),\n",
       " Document(metadata={'source': 'https://api.upstox.com/v2/historical-candle/NSE_EQ%7CINE040A01034/day/2024-07-23/2024-07-01'}, page_content='5,1724.85,1727.15,22924329,0],[\"2024-07-03T00:00:00+05:30\",1791,1794,1764.65,1768.65,61608901,0],[\"2024-07-02T00:00:00+05:30\",1715,1734.9,1702.75,1730.6,22960845,0],[\"2024-07-01T00:00:00+05:30\",1680,1707.3,1680,1705.2,10593512,0]]}}')]"
      ]
     },
     "execution_count": 26,
     "metadata": {},
     "output_type": "execute_result"
    }
   ],
   "source": [
    "text_splitter=RecursiveCharacterTextSplitter(chunk_size=500,chunk_overlap=50)\n",
    "web_splitted=text_splitter.split_documents(web_data)\n",
    "web_splitted"
   ]
  },
  {
   "cell_type": "code",
   "execution_count": 27,
   "metadata": {},
   "outputs": [
    {
     "data": {
      "text/plain": [
       "<langchain_community.vectorstores.faiss.FAISS at 0x203c7302050>"
      ]
     },
     "execution_count": 27,
     "metadata": {},
     "output_type": "execute_result"
    }
   ],
   "source": [
    "embeddings_obj=OllamaEmbeddings(model='llava-phi3:3.8b')\n",
    "db=FAISS.from_documents(web_splitted,embeddings_obj)\n",
    "db"
   ]
  },
  {
   "cell_type": "code",
   "execution_count": 28,
   "metadata": {},
   "outputs": [],
   "source": [
    "prompt = ChatPromptTemplate.from_template(\n",
    "\"\"\"\n",
    "Given the context below and today's date {date} (which is a {day}), answer the following questions as accurately as possible.\n",
    "with some fluctuation in percentage values of params with respect to today\n",
    "Context:\n",
    "<context>\n",
    "{context}\n",
    "</context>\n",
    "Questions : {input}\n",
    "\"\"\" \n",
    ")\n",
    "document_chain = create_stuff_documents_chain(llm, prompt)"
   ]
  },
  {
   "cell_type": "code",
   "execution_count": 29,
   "metadata": {},
   "outputs": [],
   "source": [
    "retriever = db.as_retriever()\n",
    "retrieval_chain = create_retrieval_chain(retriever, document_chain)"
   ]
  },
  {
   "cell_type": "code",
   "execution_count": 30,
   "metadata": {},
   "outputs": [],
   "source": [
    "prompt=\"how much deviation in % can be there for each candle values can be occur respect to today for next 5 days give it respective dates\""
   ]
  },
  {
   "cell_type": "code",
   "execution_count": 31,
   "metadata": {},
   "outputs": [
    {
     "name": "stdout",
     "output_type": "stream",
     "text": [
      "To calculate the deviation in percentage for each candle value with respect to today, we first need to find the difference between the future candle values and today's value. Then, we can divide this difference by today's value and multiply by 100 to get the percentage deviation.\n",
      "\n",
      "Let's do this for the next five days:\n",
      "\n",
      "1. 2024-07-26: \n",
      "   - Open: 1647.55\n",
      "   - High: 1647.8\n",
      "   - Low: 1605\n",
      "   - Close: 1618.4\n",
      "   - Volume: 26001076\n",
      "\n",
      "   Deviation in %:\n",
      "   - Open: ((1647.55 - 1618.4) / 1618.4) * 100 = 1.81%\n",
      "   - High: ((1647.8 - 1618.4) / 1618.4) * 100 = 1.83%\n",
      "   - Low: ((1605 - 1618.4) / 1618.4) * 100 = -0.83%\n",
      "   - Close: ((1618.4 - 1618.4) / 1618.4) * 100 = 0%\n",
      "\n",
      "2. 2024-07-27:\n",
      "   - Open: 1617\n",
      "   - High: 1651\n",
      "   - Low: 1612.65\n",
      "   - Close: 1642.55\n",
      "   - Volume: 26872411\n",
      "\n",
      "   Deviation in %:\n",
      "   - Open: ((1617 - 1618.4) / 1618.4) * 100 = -0.07%\n",
      "   - High: ((1651 - 1618.4) / 1618.4) * 100 = 2.05%\n",
      "   - Low: ((1612.65 - 1618.4) / 1618.4) * 100 = -0.35%\n",
      "   - Close: ((1642.55 - 1618.4) / 1618.4) * 100 = 1.51%\n",
      "\n",
      "3. 2024-07-28:\n",
      "   - Open: 1616\n",
      "   - High: 1623\n",
      "   - Low: 1603.5\n",
      "   - Close: 1607.3\n",
      "   - Volume: 13001076\n",
      "\n",
      "   Deviation in %:\n",
      "   - Open: ((1616 - 1618.4) / 1618.4) * 100 = -0.14%\n",
      "   - High: ((1623 - 1618.4) / 1618.4) * 100 = 0.29%\n",
      "   - Low: ((1603.5 - 1618.4) / 1618.4) * 100 = -0.92%\n",
      "   - Close: ((1607.3 - 1618.4) / 1618.4) * 100 = -0.68%\n",
      "\n",
      "4. 2024-07-29:\n",
      "   - Open: 1608\n",
      "   - High: 1623.95\n",
      "   - Low: 1599.15\n",
      "   - Close: 1614.8\n",
      "   - Volume: 16858532\n",
      "\n",
      "   Deviation in %:\n",
      "   - Open: ((1608 - 1618.4) / 1618.4) * 100 = -0.63%\n",
      "   - High: ((1623.95 - 1618.4) / 1618.4) * 100 = 0.34%\n",
      "   - Low: ((1599.15 - 1618.4) / 1618.4) * 100 = -1.19%\n",
      "   - Close: ((1614.8 - 1618.4) / 1618.4) * 100 = -0.22%\n",
      "\n",
      "5. 2024-07-30:\n",
      "   - Open: 1620.75\n",
      "   - High: 1627\n",
      "   - Low: 1616.8\n",
      "   - Close: 1619.75\n",
      "   - Volume: 14475162\n",
      "\n",
      "   Deviation in %:\n",
      "   - Open: ((1620.75 - 1618.4) / 1618.4) * 100 = 0.15%\n",
      "   - High: ((1627 - 1618.4) / 1618.4) * 100 = 0.54%\n",
      "   - Low: ((1616.8 - 1618.4) / 1618.4) * 100 = -0.1%\n",
      "   - Close: ((1619.75 - 1618.4) / 1618.4) * 100 = 0.08%\n",
      "\n",
      "The deviation in percentage for each candle value with respect to today for the next five days is as follows:\n",
      "\n",
      "- 2024-07-26:\n",
      "  - Open: 1.81%\n",
      "  - High: 1.83%\n",
      "  - Low: -0.83%\n",
      "  - Close: 0%\n",
      "\n",
      "- 2024-07-27:\n",
      "  - Open: -0.07%\n",
      "  - High: 2.05%\n",
      "  - Low: -0.35%\n",
      "  - Close: 1.51%\n",
      "\n",
      "- 2024-07-28:\n",
      "  - Open: -0.14%\n",
      "  - High: 0.29%\n",
      "  - Low: -0.92%\n",
      "  - Close: -0.68%\n",
      "\n",
      "- 2024-07-29:\n",
      "  - Open: -0.63%\n",
      "  - High: 0.34%\n",
      "  - Low: -1.19%\n",
      "  - Close: -0.22%\n",
      "\n",
      "- 2024-07-30:\n",
      "  - Open: 0.15%\n",
      "  - High: 0.54%\n",
      "  - Low: -0.1%\n",
      "  - Close: 0.08%\n"
     ]
    }
   ],
   "source": [
    "response=retrieval_chain.invoke(input={'input':prompt,\n",
    "                        'context':web_splitted,\n",
    "                        'date':date.today(),\n",
    "                        'day':datetime.today().strftime(\"%A\")\n",
    "                        })\n",
    "print(response['answer'])"
   ]
  }
 ],
 "metadata": {
  "kernelspec": {
   "display_name": "Python 3",
   "language": "python",
   "name": "python3"
  },
  "language_info": {
   "codemirror_mode": {
    "name": "ipython",
    "version": 3
   },
   "file_extension": ".py",
   "mimetype": "text/x-python",
   "name": "python",
   "nbconvert_exporter": "python",
   "pygments_lexer": "ipython3",
   "version": "3.11.4"
  }
 },
 "nbformat": 4,
 "nbformat_minor": 2
}
